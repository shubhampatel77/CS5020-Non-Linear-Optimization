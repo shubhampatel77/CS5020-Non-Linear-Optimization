{
 "cells": [
  {
   "cell_type": "code",
   "execution_count": 708,
   "metadata": {},
   "outputs": [],
   "source": [
    "import numpy as np\n",
    "import matplotlib.pyplot as plt\n",
    "import random\n",
    "from matplotlib.animation import FuncAnimation\n",
    "from mpl_toolkits.mplot3d import Axes3D\n",
    "from IPython import display\n",
    "import ffmpeg"
   ]
  },
  {
   "cell_type": "code",
   "execution_count": 709,
   "metadata": {},
   "outputs": [],
   "source": [
    "def function(X1, X2):\n",
    "    return 100*(X2-X1**2)**2 + (X1-1)**2\n",
    "\n",
    "def gradient1(X):\n",
    "    X1 = X[0]\n",
    "    X2 = X[1]\n",
    "    grad = np.zeros([2, 1])\n",
    "    grad[0] = 200*(X2-X1**2)*(-2*X1) + 2*(X1-1)\n",
    "    grad[1] = 200*(X2-X1**2)\n",
    "    return grad.T\n",
    "\n",
    "def gradient2(X):\n",
    "    X1 = X[0]\n",
    "    X2 = X[1]\n",
    "    grad = np.zeros([2, 2])\n",
    "    grad[0, 0] = -400*(X2-3*X1**2) + 2\n",
    "    grad[1, 0] = -400*X1\n",
    "    grad[0, 1] = -400*X1\n",
    "    grad[1, 1] = 200\n",
    "    return grad"
   ]
  },
  {
   "cell_type": "code",
   "execution_count": 710,
   "metadata": {},
   "outputs": [],
   "source": [
    "def gradient_descent(initial_val, iterations, alpha_val):\n",
    "    iter_val = np.zeros([iterations+1, 1])\n",
    "    iter_val[iterations] = iterations \n",
    "    x_val = np.zeros([iterations+1, 2])\n",
    "    x_val[0] = initial_val\n",
    "    for i in range(iterations):\n",
    "        iter_val[i] = i\n",
    "        x_val[i+1] = x_val[i] - alpha_val*gradient1(x_val[i])\n",
    "    return iter_val, x_val\n",
    "\n",
    "def gradient_descent_ball(initial_val, iterations, alpha_val, beta_val):\n",
    "    iter_val = np.zeros([iterations+1, 1])\n",
    "    iter_val[iterations] = iterations \n",
    "    x_val = np.zeros([iterations+1, 2])\n",
    "    x_val[0] = initial_val\n",
    "    x_val[1] = x_val[0] - alpha_val*gradient1(x_val[0])\n",
    "    for i in range(1, iterations):\n",
    "        iter_val[i] = i\n",
    "        x_val[i+1] = x_val[i] - alpha_val*gradient1(x_val[i]) + beta_val*(x_val[i]-x_val[i-1])\n",
    "    return iter_val, x_val\n",
    "\n",
    "def nesterov(initial_val, iterations, alpha_val, beta_val):\n",
    "    iter_val = np.zeros([iterations+1, 1])\n",
    "    iter_val[iterations] = iterations \n",
    "    x_val = np.zeros([iterations+1, 2])\n",
    "    x_val[0] = initial_val\n",
    "    x_val[1] = x_val[0] - alpha_val*gradient1(x_val[0])\n",
    "    for i in range(1, iterations):\n",
    "        iter_val[i] = i\n",
    "        x_val[i+1] = x_val[i] - alpha_val*gradient1(x_val[i] + beta_val*(x_val[i]-x_val[i-1])) + beta_val*(x_val[i]-x_val[i-1])\n",
    "    return iter_val, x_val\n",
    "\n",
    "def newton_method(initial_val, iterations):\n",
    "    iter_val = np.zeros([iterations+1, 1])\n",
    "    iter_val[iterations] = iterations \n",
    "    x_val = np.zeros([iterations+1, 2])\n",
    "    x_val[0] = initial_val\n",
    "    for i in range(iterations):\n",
    "        iter_val[i] = i\n",
    "        x_val[i+1] = x_val[i] - (np.linalg.inv(gradient2(x_val[i]))@gradient1(x_val[i]).T).T\n",
    "    return iter_val, x_val\n",
    "\n",
    "def quasi_newton(initial_val, iterations, alpha_val):\n",
    "    iter_val = np.zeros([iterations+1, 1])\n",
    "    iter_val[iterations] = iterations \n",
    "    x_val = np.zeros([iterations+1, 2])\n",
    "    x_val[0] = initial_val\n",
    "    for i in range(iterations):\n",
    "        iter_val[i] = i\n",
    "        x_val[i+1] = x_val[i] - alpha_val*(np.linalg.inv(gradient2(x_val[i])*np.eye(2))@gradient1(x_val[i]).T).T\n",
    "    return iter_val, x_val\n",
    "\n",
    "def RMSProp(initial_val, v_initial, iterations, alpha_val, beta_val):\n",
    "    iter_val = np.zeros([iterations+1, 1])\n",
    "    iter_val[iterations] = iterations \n",
    "    x_val = np.zeros([iterations+1, 2])\n",
    "    x_val[0] = initial_val\n",
    "    v_val = np.zeros([iterations+1, 2])\n",
    "    v_val[0] = v_initial\n",
    "    for i in range(1, iterations):\n",
    "        iter_val[i] = i\n",
    "        v_val[i+1] = beta_val*v_val[i] + (1-beta_val)*gradient1(x_val[i])**2\n",
    "        x_val[i+1] = x_val[i] - alpha_val*gradient1(x_val[i])/(v_val[i+1])**.5\n",
    "    return iter_val, x_val\n",
    "\n",
    "def Adam(initial_val, m_initial, v_initial, iterations, alpha_val, beta_val, epsilon):\n",
    "    iter_val = np.zeros([iterations+1, 1])\n",
    "    iter_val[iterations] = iterations \n",
    "    x_val = np.zeros([iterations+1, 2])\n",
    "    x_val[0] = initial_val\n",
    "    v_val = np.zeros([iterations+1, 2])\n",
    "    v_val[0] = v_initial\n",
    "    m_val = np.zeros([iterations+1, 2])\n",
    "    m_val[0] = m_initial\n",
    "    for i in range(1, iterations):\n",
    "        iter_val[i] = i\n",
    "        m_val[i+1] = beta_val*m_val[i] + (1-beta_val)*gradient1(x_val[i])\n",
    "        v_val[i+1] = beta_val*v_val[i] + (1-beta_val)*gradient1(x_val[i])**2\n",
    "        m = m_val[i+1]/(1-beta_val**(i+1))\n",
    "        v = v_val[i+1]/(1-beta_val**(i+1))\n",
    "        x_val[i+1] = x_val[i] - alpha_val*m/(v**.5 + epsilon)\n",
    "    return iter_val, x_val"
   ]
  },
  {
   "cell_type": "code",
   "execution_count": 711,
   "metadata": {},
   "outputs": [],
   "source": [
    "iterations = 10000\n",
    "alpha_val = 0.001\n",
    "beta_val = 0.9\n",
    "epsilon = 0.1\n",
    "initial_val = np.array([1, 2])\n",
    "v_initial = np.array([.1, .2])\n",
    "m_initial = np.array([.3, .8])"
   ]
  },
  {
   "cell_type": "code",
   "execution_count": 712,
   "metadata": {},
   "outputs": [
    {
     "name": "stdout",
     "output_type": "stream",
     "text": [
      "[[1.         2.        ]\n",
      " [1.4        1.8       ]\n",
      " [1.3096     1.832     ]\n",
      " ...\n",
      " [1.01150574 1.02318959]\n",
      " [1.01150123 1.02318045]\n",
      " [1.01149672 1.0231713 ]]\n"
     ]
    },
    {
     "data": {
      "text/plain": [
       "[<matplotlib.lines.Line2D at 0x7f9d7baa9eb0>]"
      ]
     },
     "execution_count": 712,
     "metadata": {},
     "output_type": "execute_result"
    },
    {
     "data": {
      "image/png": "[encoded data removed]",
      "text/plain": [
       "<Figure size 432x288 with 1 Axes>"
      ]
     },
     "metadata": {
      "needs_background": "light"
     },
     "output_type": "display_data"
    }
   ],
   "source": [
    "time, x_val_gd = gradient_descent(initial_val, iterations, alpha_val) #10k, 0.001\n",
    "print(x_val_gd)\n",
    "plt.plot(time, np.linalg.norm(x_val_gd-x_val_gd[iterations], axis=1, keepdims=True))\n",
    "# time, x_val_gd = gradient_descent_ball(initial_val, iterations, alpha_val, beta_val)#1k, 0.001\n",
    "# print(x_val_gd)\n",
    "# plt.plot(time, np.linalg.norm(x_val_gd-x_val_gd[iterations], axis=1, keepdims=True))\n",
    "# time, x_val_gd = nesterov(initial_val, iterations, alpha_val, beta_val=0.9)\n",
    "# print(x_val_gd)\n",
    "# plt.plot(time, np.linalg.norm(x_val_gd-x_val_gd[iterations], axis=1, keepdims=True))\n",
    "# time, x_val_gd = newton_method(initial_val, iterations)\n",
    "# print(x_val_gd)\n",
    "# plt.plot(time, np.linalg.norm(x_val_gd-x_val_gd[iterations], axis=1, keepdims=True))\n",
    "# time, x_val_gd = quasi_newton(initial_val, iterations, alpha_val)\n",
    "# print(x_val_gd)\n",
    "# plt.plot(time, np.linalg.norm(x_val_gd-x_val_gd[iterations], axis=1, keepdims=True))\n",
    "# time, x_val_gd = RMSProp(initial_val, v_initial, iterations, alpha_val, beta_val)\n",
    "# print(x_val_gd)\n",
    "# plt.plot(time, np.linalg.norm(x_val_gd-x_val_gd[iterations], axis=1, keepdims=True))\n",
    "# time, x_val_gd = Adam(initial_val, m_initial, v_initial, iterations, alpha_val, beta_val, epsilon)\n",
    "# print(x_val_gd)\n",
    "# plt.plot(time, np.linalg.norm(x_val_gd-x_val_gd[iterations], axis=1, keepdims=True))"
   ]
  },
  {
   "cell_type": "code",
   "execution_count": 713,
   "metadata": {},
   "outputs": [],
   "source": [
    "x1 = np.linspace(-1, 1, 100).reshape(100, 1)\n",
    "x2 = np.linspace(-1, 1, 100).reshape(100, 1)\n",
    "X, Y = np.meshgrid(x1, x2)\n",
    "Z = function(X, Y)\n",
    "\n",
    "k = 0\n",
    "algList = ['Gradient Descent', 'Heavy Ball Descent', 'Nesterov Descent', 'Newton Method', 'Quasi Newton Method', 'RMSProp', 'Adam']\n",
    "for x in [x_val_gd]:\n",
    "\n",
    "    fig = plt.figure(figsize=(7,7))\n",
    "    ax = plt.axes(projection='3d')\n",
    "\n",
    "    ax.set_xlim3d([-1.0, 1.0])\n",
    "    ax.set_xlabel('x(1)', fontsize = 15)\n",
    "\n",
    "    ax.set_ylim3d([-1.0, 1.0])\n",
    "    ax.set_ylabel('x(2)', fontsize = 15)\n",
    "\n",
    "    ax.set_zlim3d([-150, np.max(Z)])\n",
    "    ax.set_zlabel('f(x(1), x(2))', fontsize = 15)\n",
    "\n",
    "    ax.plot_surface(X, Y, Z, cmap='plasma_r')\n",
    "    plt.title(f': Descent path for alpha = {alpha_val}, T = {iterations}', fontsize=16)\n",
    "    ax.view_init(30, 40)\n",
    "\n",
    "    \n",
    "    #Generating animation for path\n",
    "    def gen(n):\n",
    "        n = len(x)\n",
    "        for i in range(n):\n",
    "            yield np.array([x[i, 0], x[i, 1], function(x[i, 0], x[i, 1])])\n",
    "\n",
    "    def update(num, data, line):\n",
    "        line.set_data(data[:2, :num])\n",
    "        line.set_3d_properties(data[2, :num])\n",
    "\n",
    "    N = 100\n",
    "    data = np.array(list(gen(N))).T\n",
    "    line, = ax.plot(data[0, 0:1], data[1, 0:1], data[2, 0:1], linewidth=2)\n",
    "    \n",
    "\n",
    "    anim = FuncAnimation(fig, update, int(N), fargs=(data, line), interval=0.5*N, blit=False)\n",
    "    line.set_color('black')\n",
    "    video = anim.to_html5_video()\n",
    "    html = display.HTML(video)\n",
    "    display.display(html)\n",
    "    plt.close()"
   ]
  }
 ],
 "metadata": {
  "kernelspec": {
   "display_name": "Anaconda (base)",
   "language": "python",
   "name": "anaconda-base"
  },
  "language_info": {
   "codemirror_mode": {
    "name": "ipython",
    "version": 3
   },
   "file_extension": ".py",
   "mimetype": "text/x-python",
   "name": "python",
   "nbconvert_exporter": "python",
   "pygments_lexer": "ipython3",
   "version": "3.9.7"
  },
  "orig_nbformat": 4,
  "vscode": {
   "interpreter": {
    "hash": "31f2aee4e71d21fbe5cf8b01ff0e069b9275f58929596ceb00d14d90e3e16cd6"
   }
  }
 },
 "nbformat": 4,
 "nbformat_minor": 2
}
